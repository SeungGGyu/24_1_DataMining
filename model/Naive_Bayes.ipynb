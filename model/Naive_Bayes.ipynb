{
  "cells": [
    {
      "cell_type": "markdown",
      "metadata": {
        "id": "oxvNlFvZAUnD"
      },
      "source": [
        "## 모델링"
      ]
    },
    {
      "cell_type": "code",
      "execution_count": 1,
      "metadata": {
        "id": "IHrLCcRtAlJZ"
      },
      "outputs": [],
      "source": [
        "import pandas as pd\n",
        "import numpy as np"
      ]
    },
    {
      "cell_type": "code",
      "execution_count": 4,
      "metadata": {
        "id": "ooASfRULAgQB"
      },
      "outputs": [],
      "source": [
        "file_path = r'C:\\Users\\Administrator\\Desktop\\대학\\3학년 1학기\\데이터마이닝\\프로젝트\\new_df.csv'\n",
        "df = pd.read_csv(file_path, encoding = 'CP949')\n",
        "df['preprocessed_송출내용'] = df['preprocessed_송출내용'].fillna('')\n",
        "texts = df['preprocessed_송출내용']"
      ]
    },
    {
      "cell_type": "code",
      "execution_count": 5,
      "metadata": {
        "colab": {
          "background_save": true,
          "base_uri": "https://localhost:8080/",
          "height": 221
        },
        "id": "kLHOgb72_ykA",
        "outputId": "b6b4ccd4-b368-4337-e45c-a62afb9d8cc0"
      },
      "outputs": [],
      "source": [
        "from sklearn.feature_extraction.text import TfidfVectorizer\n",
        "\n",
        "vectorizer = TfidfVectorizer(max_features=30)\n",
        "vectored_df = vectorizer.fit_transform(texts)\n",
        "\n",
        "\n",
        "dense_df = vectored_df.todense() #vectored_df는 희소행렬이기 때문에 dense 형태로 전환.\n",
        "feature_names = vectorizer.get_feature_names_out()\n",
        "df_tfidf = pd.DataFrame(dense_df, columns=feature_names)\n"
      ]
    },
    {
      "cell_type": "markdown",
      "metadata": {
        "id": "IGZb9A40yaZ3"
      },
      "source": [
        "# 데이터분할"
      ]
    },
    {
      "cell_type": "code",
      "execution_count": 7,
      "metadata": {
        "id": "5gdDzlAPA-uU"
      },
      "outputs": [
        {
          "name": "stdout",
          "output_type": "stream",
          "text": [
            "X_train shape: (5608, 30) y_train shape: (5608,)\n",
            "X_valid shape: (1870, 30) y_valid shape: (1870,)\n",
            "X_test shape: (1870, 30) y_test shape: (1870,)\n"
          ]
        }
      ],
      "source": [
        "from sklearn.model_selection import train_test_split\n",
        "\n",
        "X = df_tfidf\n",
        "y = df['label']\n",
        "\n",
        "# train : val : test = 6 : 2 : 2\n",
        "X_train, X_temp, y_train, y_temp = train_test_split(X, y, test_size=0.4, random_state=42)\n",
        "X_valid, X_test, y_valid, y_test = train_test_split(X_temp, y_temp, test_size=0.5, random_state=42)\n",
        "\n",
        "\n",
        "print(\"X_train shape:\", X_train.shape, \"y_train shape:\", y_train.shape)\n",
        "print(\"X_valid shape:\", X_valid.shape, \"y_valid shape:\", y_valid.shape)\n",
        "print(\"X_test shape:\", X_test.shape, \"y_test shape:\", y_test.shape)"
      ]
    },
    {
      "cell_type": "markdown",
      "metadata": {
        "id": "hDXJc5xDzDbB"
      },
      "source": [
        "## 나이브 베이즈\n"
      ]
    },
    {
      "cell_type": "code",
      "execution_count": 8,
      "metadata": {
        "id": "Usebvw1EyrDB"
      },
      "outputs": [
        {
          "name": "stdout",
          "output_type": "stream",
          "text": [
            "Validation Set Performance:\n",
            "              precision    recall  f1-score   support\n",
            "\n",
            "           0       0.89      0.88      0.88       152\n",
            "           1       0.67      0.41      0.51       162\n",
            "           2       0.70      0.08      0.14        89\n",
            "           3       0.00      0.00      0.00        51\n",
            "           4       0.55      0.69      0.61       607\n",
            "           5       0.74      0.90      0.81       464\n",
            "           6       0.65      0.87      0.74       194\n",
            "           7       0.76      0.17      0.28       151\n",
            "\n",
            "    accuracy                           0.66      1870\n",
            "   macro avg       0.62      0.50      0.50      1870\n",
            "weighted avg       0.66      0.66      0.62      1870\n",
            "\n",
            "Validation Set Performance:\n",
            "              precision    recall  f1-score   support\n",
            "\n",
            "           0       0.89      0.88      0.88       152\n",
            "           1       0.67      0.41      0.51       162\n",
            "           2       0.70      0.08      0.14        89\n",
            "           3       0.00      0.00      0.00        51\n",
            "           4       0.55      0.69      0.61       607\n",
            "           5       0.74      0.90      0.81       464\n",
            "           6       0.65      0.87      0.74       194\n",
            "           7       0.76      0.17      0.28       151\n",
            "\n",
            "    accuracy                           0.66      1870\n",
            "   macro avg       0.62      0.50      0.50      1870\n",
            "weighted avg       0.66      0.66      0.62      1870\n",
            "\n"
          ]
        },
        {
          "name": "stderr",
          "output_type": "stream",
          "text": [
            "c:\\Users\\Administrator\\anaconda3\\Lib\\site-packages\\sklearn\\metrics\\_classification.py:1344: UndefinedMetricWarning: Precision and F-score are ill-defined and being set to 0.0 in labels with no predicted samples. Use `zero_division` parameter to control this behavior.\n",
            "  _warn_prf(average, modifier, msg_start, len(result))\n",
            "c:\\Users\\Administrator\\anaconda3\\Lib\\site-packages\\sklearn\\metrics\\_classification.py:1344: UndefinedMetricWarning: Precision and F-score are ill-defined and being set to 0.0 in labels with no predicted samples. Use `zero_division` parameter to control this behavior.\n",
            "  _warn_prf(average, modifier, msg_start, len(result))\n",
            "c:\\Users\\Administrator\\anaconda3\\Lib\\site-packages\\sklearn\\metrics\\_classification.py:1344: UndefinedMetricWarning: Precision and F-score are ill-defined and being set to 0.0 in labels with no predicted samples. Use `zero_division` parameter to control this behavior.\n",
            "  _warn_prf(average, modifier, msg_start, len(result))\n",
            "c:\\Users\\Administrator\\anaconda3\\Lib\\site-packages\\sklearn\\metrics\\_classification.py:1344: UndefinedMetricWarning: Precision and F-score are ill-defined and being set to 0.0 in labels with no predicted samples. Use `zero_division` parameter to control this behavior.\n",
            "  _warn_prf(average, modifier, msg_start, len(result))\n",
            "c:\\Users\\Administrator\\anaconda3\\Lib\\site-packages\\sklearn\\metrics\\_classification.py:1344: UndefinedMetricWarning: Precision and F-score are ill-defined and being set to 0.0 in labels with no predicted samples. Use `zero_division` parameter to control this behavior.\n",
            "  _warn_prf(average, modifier, msg_start, len(result))\n",
            "c:\\Users\\Administrator\\anaconda3\\Lib\\site-packages\\sklearn\\metrics\\_classification.py:1344: UndefinedMetricWarning: Precision and F-score are ill-defined and being set to 0.0 in labels with no predicted samples. Use `zero_division` parameter to control this behavior.\n",
            "  _warn_prf(average, modifier, msg_start, len(result))\n"
          ]
        }
      ],
      "source": [
        "from sklearn.naive_bayes import MultinomialNB\n",
        "from sklearn import metrics\n",
        "\n",
        "# 나이브 베이즈 모델 생성 및 훈련\n",
        "nb_model = MultinomialNB()\n",
        "nb_model.fit(X_train, y_train)\n",
        "\n",
        "# 검증 세트로 예측 및 성능 평가\n",
        "y_valid_pred = nb_model.predict(X_valid)\n",
        "print(\"Validation Set Performance:\")\n",
        "print(metrics.classification_report(y_valid, y_valid_pred))\n",
        "\n",
        "y_test_pred = nb_model.predict(X_test)\n",
        "print(\"Validation Set Performance:\")\n",
        "print(metrics.classification_report(y_valid, y_valid_pred))\n"
      ]
    },
    {
      "cell_type": "markdown",
      "metadata": {},
      "source": [
        "## 하이퍼파라미터 튜닝 "
      ]
    },
    {
      "cell_type": "code",
      "execution_count": 20,
      "metadata": {},
      "outputs": [
        {
          "name": "stdout",
          "output_type": "stream",
          "text": [
            "Fitting 3 folds for each of 18 candidates, totalling 54 fits\n",
            "Validation Set Performance with nb_model:\n",
            "              precision    recall  f1-score   support\n",
            "\n",
            "           0       0.89      0.88      0.88       152\n",
            "           1       0.68      0.57      0.62       162\n",
            "           2       0.70      0.08      0.14        89\n",
            "           3       0.00      0.00      0.00        51\n",
            "           4       0.58      0.68      0.62       607\n",
            "           5       0.74      0.90      0.81       464\n",
            "           6       0.65      0.87      0.74       194\n",
            "           7       0.76      0.17      0.28       151\n",
            "\n",
            "    accuracy                           0.67      1870\n",
            "   macro avg       0.63      0.52      0.51      1870\n",
            "weighted avg       0.66      0.67      0.64      1870\n",
            "\n"
          ]
        },
        {
          "name": "stderr",
          "output_type": "stream",
          "text": [
            "c:\\Users\\Administrator\\anaconda3\\Lib\\site-packages\\sklearn\\metrics\\_classification.py:1344: UndefinedMetricWarning: Precision and F-score are ill-defined and being set to 0.0 in labels with no predicted samples. Use `zero_division` parameter to control this behavior.\n",
            "  _warn_prf(average, modifier, msg_start, len(result))\n",
            "c:\\Users\\Administrator\\anaconda3\\Lib\\site-packages\\sklearn\\metrics\\_classification.py:1344: UndefinedMetricWarning: Precision and F-score are ill-defined and being set to 0.0 in labels with no predicted samples. Use `zero_division` parameter to control this behavior.\n",
            "  _warn_prf(average, modifier, msg_start, len(result))\n",
            "c:\\Users\\Administrator\\anaconda3\\Lib\\site-packages\\sklearn\\metrics\\_classification.py:1344: UndefinedMetricWarning: Precision and F-score are ill-defined and being set to 0.0 in labels with no predicted samples. Use `zero_division` parameter to control this behavior.\n",
            "  _warn_prf(average, modifier, msg_start, len(result))\n"
          ]
        }
      ],
      "source": [
        "import pandas as pd\n",
        "from sklearn.model_selection import train_test_split, GridSearchCV\n",
        "from sklearn.feature_extraction.text import TfidfVectorizer\n",
        "from sklearn.naive_bayes import MultinomialNB\n",
        "from sklearn.metrics import accuracy_score, classification_report\n",
        "\n",
        "\n",
        "# Multinomial Naive Bayes 모델 생성 및 하이퍼파라미터 튜닝\n",
        "param_grid = {\n",
        "    'alpha': [0.01, 0.05, 0.1, 0.5, 1.0, 1.5, 2.0, 5.0, 10.0],\n",
        "    'fit_prior': [True, False]\n",
        "    }\n",
        "\n",
        "nb_model = MultinomialNB()\n",
        "\n",
        "grid_search = GridSearchCV(estimator=nb_model, param_grid=param_grid, scoring='accuracy', cv=3, verbose=1, n_jobs=-1)\n",
        "grid_search.fit(X_train, y_train)\n",
        "\n",
        "\n",
        "# 검증 데이터에 대한 성능 평가\n",
        "best_nb_model = grid_search.best_estimator_\n",
        "y_valid_pred = best_nb_model.predict(X_valid)\n",
        "print(\"Validation Set Performance with nb_model:\")\n",
        "print(classification_report(y_valid, y_valid_pred))"
      ]
    },
    {
      "cell_type": "code",
      "execution_count": 21,
      "metadata": {},
      "outputs": [
        {
          "name": "stdout",
          "output_type": "stream",
          "text": [
            "Best Hyperparameters: {'alpha': 0.01, 'fit_prior': True}\n"
          ]
        }
      ],
      "source": [
        "# 최적 하이퍼파라미터 출력\n",
        "print(\"Best Hyperparameters:\", grid_search.best_params_)"
      ]
    },
    {
      "cell_type": "code",
      "execution_count": 22,
      "metadata": {},
      "outputs": [
        {
          "name": "stdout",
          "output_type": "stream",
          "text": [
            "train Set Performance:\n",
            "              precision    recall  f1-score   support\n",
            "\n",
            "           0       0.86      0.90      0.88       458\n",
            "           1       0.66      0.61      0.64       465\n",
            "           2       0.82      0.15      0.25       219\n",
            "           3       0.91      0.06      0.12       154\n",
            "           4       0.59      0.67      0.63      1819\n",
            "           5       0.74      0.90      0.81      1386\n",
            "           6       0.73      0.84      0.78       653\n",
            "           7       0.89      0.22      0.36       454\n",
            "\n",
            "    accuracy                           0.69      5608\n",
            "   macro avg       0.78      0.55      0.56      5608\n",
            "weighted avg       0.71      0.69      0.66      5608\n",
            "\n",
            "train set accuracy: 0.689\n",
            "valid Set Performance:\n",
            "              precision    recall  f1-score   support\n",
            "\n",
            "           0       0.89      0.88      0.88       152\n",
            "           1       0.68      0.57      0.62       162\n",
            "           2       0.70      0.08      0.14        89\n",
            "           3       0.00      0.00      0.00        51\n",
            "           4       0.58      0.68      0.62       607\n",
            "           5       0.74      0.90      0.81       464\n",
            "           6       0.65      0.87      0.74       194\n",
            "           7       0.76      0.17      0.28       151\n",
            "\n",
            "    accuracy                           0.67      1870\n",
            "   macro avg       0.63      0.52      0.51      1870\n",
            "weighted avg       0.66      0.67      0.64      1870\n",
            "\n",
            "valid set accuracy: 0.672\n"
          ]
        },
        {
          "name": "stderr",
          "output_type": "stream",
          "text": [
            "c:\\Users\\Administrator\\anaconda3\\Lib\\site-packages\\sklearn\\metrics\\_classification.py:1344: UndefinedMetricWarning: Precision and F-score are ill-defined and being set to 0.0 in labels with no predicted samples. Use `zero_division` parameter to control this behavior.\n",
            "  _warn_prf(average, modifier, msg_start, len(result))\n",
            "c:\\Users\\Administrator\\anaconda3\\Lib\\site-packages\\sklearn\\metrics\\_classification.py:1344: UndefinedMetricWarning: Precision and F-score are ill-defined and being set to 0.0 in labels with no predicted samples. Use `zero_division` parameter to control this behavior.\n",
            "  _warn_prf(average, modifier, msg_start, len(result))\n",
            "c:\\Users\\Administrator\\anaconda3\\Lib\\site-packages\\sklearn\\metrics\\_classification.py:1344: UndefinedMetricWarning: Precision and F-score are ill-defined and being set to 0.0 in labels with no predicted samples. Use `zero_division` parameter to control this behavior.\n",
            "  _warn_prf(average, modifier, msg_start, len(result))\n"
          ]
        }
      ],
      "source": [
        "# 최적 하이퍼파라미터로 train과 valid 데이터를 합쳐서 최종 모델 학습\n",
        "\n",
        "best_nb_model = MultinomialNB(alpha=grid_search.best_params_['alpha'], fit_prior=grid_search.best_params_['fit_prior'])\n",
        "best_nb_model.fit(X_train, y_train)\n",
        "\n",
        "# 모델 평가 (train 데이터)\n",
        "y_train_hat = best_nb_model.predict(X_train)\n",
        "final_train_accuracy = accuracy_score(y_train, y_train_hat)\n",
        "print(\"train Set Performance:\")\n",
        "print(classification_report(y_train, y_train_hat))\n",
        "print(\"train set accuracy: %.3f\" % final_train_accuracy)\n",
        "\n",
        "# 모델 평가 (valid 데이터)\n",
        "y_valid_final_pred = best_nb_model.predict(X_valid)\n",
        "final_valid_accuracy = accuracy_score(y_valid, y_valid_final_pred)\n",
        "print(\"valid Set Performance:\")\n",
        "print(classification_report(y_valid, y_valid_final_pred))\n",
        "print(\"valid set accuracy: %.3f\" % final_valid_accuracy)\n"
      ]
    },
    {
      "cell_type": "code",
      "execution_count": null,
      "metadata": {},
      "outputs": [],
      "source": []
    }
  ],
  "metadata": {
    "colab": {
      "provenance": []
    },
    "kernelspec": {
      "display_name": "Python 3",
      "name": "python3"
    },
    "language_info": {
      "codemirror_mode": {
        "name": "ipython",
        "version": 3
      },
      "file_extension": ".py",
      "mimetype": "text/x-python",
      "name": "python",
      "nbconvert_exporter": "python",
      "pygments_lexer": "ipython3",
      "version": "3.11.7"
    }
  },
  "nbformat": 4,
  "nbformat_minor": 0
}
